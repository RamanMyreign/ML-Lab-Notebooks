{
 "cells": [
  {
   "cell_type": "code",
   "execution_count": 2,
   "metadata": {},
   "outputs": [],
   "source": [
    "import numpy as np\n",
    "import pandas as pd\n",
    "import matplotlib.pyplot as plt"
   ]
  },
  {
   "cell_type": "code",
   "execution_count": 3,
   "metadata": {},
   "outputs": [
    {
     "data": {
      "text/html": [
       "<div>\n",
       "<style scoped>\n",
       "    .dataframe tbody tr th:only-of-type {\n",
       "        vertical-align: middle;\n",
       "    }\n",
       "\n",
       "    .dataframe tbody tr th {\n",
       "        vertical-align: top;\n",
       "    }\n",
       "\n",
       "    .dataframe thead th {\n",
       "        text-align: right;\n",
       "    }\n",
       "</style>\n",
       "<table border=\"1\" class=\"dataframe\">\n",
       "  <thead>\n",
       "    <tr style=\"text-align: right;\">\n",
       "      <th></th>\n",
       "      <th>County</th>\n",
       "      <th>FIPS</th>\n",
       "      <th>Met Objective of 45.5? (1)</th>\n",
       "      <th>Age-Adjusted Death Rate</th>\n",
       "      <th>Lower 95% Confidence Interval for Death Rate</th>\n",
       "      <th>Upper 95% Confidence Interval for Death Rate</th>\n",
       "      <th>Average Deaths per Year</th>\n",
       "      <th>Recent Trend (2)</th>\n",
       "      <th>Recent 5-Year Trend (2) in Death Rates</th>\n",
       "      <th>Lower 95% Confidence Interval for Trend</th>\n",
       "      <th>Upper 95% Confidence Interval for Trend</th>\n",
       "    </tr>\n",
       "  </thead>\n",
       "  <tbody>\n",
       "    <tr>\n",
       "      <th>0</th>\n",
       "      <td>United States</td>\n",
       "      <td>0</td>\n",
       "      <td>No</td>\n",
       "      <td>46.0</td>\n",
       "      <td>45.9</td>\n",
       "      <td>46.1</td>\n",
       "      <td>1,57,376</td>\n",
       "      <td>falling</td>\n",
       "      <td>-2.4</td>\n",
       "      <td>-2.6</td>\n",
       "      <td>-2.2</td>\n",
       "    </tr>\n",
       "    <tr>\n",
       "      <th>1</th>\n",
       "      <td>Perry County, Kentucky</td>\n",
       "      <td>21193</td>\n",
       "      <td>No</td>\n",
       "      <td>125.6</td>\n",
       "      <td>108.9</td>\n",
       "      <td>144.2</td>\n",
       "      <td>43</td>\n",
       "      <td>stable</td>\n",
       "      <td>-0.6</td>\n",
       "      <td>-2.7</td>\n",
       "      <td>1.6</td>\n",
       "    </tr>\n",
       "    <tr>\n",
       "      <th>2</th>\n",
       "      <td>Powell County, Kentucky</td>\n",
       "      <td>21197</td>\n",
       "      <td>No</td>\n",
       "      <td>125.3</td>\n",
       "      <td>100.2</td>\n",
       "      <td>155.1</td>\n",
       "      <td>18</td>\n",
       "      <td>stable</td>\n",
       "      <td>1.7</td>\n",
       "      <td>0</td>\n",
       "      <td>3.4</td>\n",
       "    </tr>\n",
       "    <tr>\n",
       "      <th>3</th>\n",
       "      <td>North Slope Borough, Alaska</td>\n",
       "      <td>2185</td>\n",
       "      <td>No</td>\n",
       "      <td>124.9</td>\n",
       "      <td>73.0</td>\n",
       "      <td>194.7</td>\n",
       "      <td>5</td>\n",
       "      <td>**</td>\n",
       "      <td>**</td>\n",
       "      <td>**</td>\n",
       "      <td>**</td>\n",
       "    </tr>\n",
       "    <tr>\n",
       "      <th>4</th>\n",
       "      <td>Owsley County, Kentucky</td>\n",
       "      <td>21189</td>\n",
       "      <td>No</td>\n",
       "      <td>118.5</td>\n",
       "      <td>83.1</td>\n",
       "      <td>165.5</td>\n",
       "      <td>8</td>\n",
       "      <td>stable</td>\n",
       "      <td>2.2</td>\n",
       "      <td>-0.4</td>\n",
       "      <td>4.8</td>\n",
       "    </tr>\n",
       "  </tbody>\n",
       "</table>\n",
       "</div>"
      ],
      "text/plain": [
       "                        County   FIPS Met Objective of 45.5? (1)  \\\n",
       "0                United States      0                         No   \n",
       "1       Perry County, Kentucky  21193                         No   \n",
       "2      Powell County, Kentucky  21197                         No   \n",
       "3  North Slope Borough, Alaska   2185                         No   \n",
       "4      Owsley County, Kentucky  21189                         No   \n",
       "\n",
       "   Age-Adjusted Death Rate  Lower 95% Confidence Interval for Death Rate  \\\n",
       "0                     46.0                                          45.9   \n",
       "1                    125.6                                         108.9   \n",
       "2                    125.3                                         100.2   \n",
       "3                    124.9                                          73.0   \n",
       "4                    118.5                                          83.1   \n",
       "\n",
       "   Upper 95% Confidence Interval for Death Rate Average Deaths per Year  \\\n",
       "0                                          46.1                1,57,376   \n",
       "1                                         144.2                      43   \n",
       "2                                         155.1                      18   \n",
       "3                                         194.7                       5   \n",
       "4                                         165.5                       8   \n",
       "\n",
       "  Recent Trend (2) Recent 5-Year Trend (2) in Death Rates  \\\n",
       "0          falling                                   -2.4   \n",
       "1           stable                                   -0.6   \n",
       "2           stable                                    1.7   \n",
       "3               **                                     **   \n",
       "4           stable                                    2.2   \n",
       "\n",
       "  Lower 95% Confidence Interval for Trend  \\\n",
       "0                                    -2.6   \n",
       "1                                    -2.7   \n",
       "2                                       0   \n",
       "3                                      **   \n",
       "4                                    -0.4   \n",
       "\n",
       "  Upper 95% Confidence Interval for Trend  \n",
       "0                                    -2.2  \n",
       "1                                     1.6  \n",
       "2                                     3.4  \n",
       "3                                      **  \n",
       "4                                     4.8  "
      ]
     },
     "execution_count": 3,
     "metadata": {},
     "output_type": "execute_result"
    }
   ],
   "source": [
    "#Reading data\n",
    "data=pd.read_csv('share.csv',nrows=2000)\n",
    "data.head()"
   ]
  },
  {
   "cell_type": "code",
   "execution_count": 4,
   "metadata": {},
   "outputs": [],
   "source": [
    "#Reading X and Y values\n",
    "X=data['Age-Adjusted Death Rate'].values\n",
    "Y=data['Lower 95% Confidence Interval for Death Rate'].values"
   ]
  },
  {
   "cell_type": "code",
   "execution_count": 5,
   "metadata": {},
   "outputs": [
    {
     "data": {
      "text/plain": [
       "array([ 46. , 125.6, 125.3, ...,  45.3,  45.3,  45.3])"
      ]
     },
     "execution_count": 5,
     "metadata": {},
     "output_type": "execute_result"
    }
   ],
   "source": [
    "X"
   ]
  },
  {
   "cell_type": "code",
   "execution_count": 6,
   "metadata": {},
   "outputs": [
    {
     "data": {
      "text/plain": [
       "array([ 45.9, 108.9, 100.2, ...,  42.1,  31.5,  31.3])"
      ]
     },
     "execution_count": 6,
     "metadata": {},
     "output_type": "execute_result"
    }
   ],
   "source": [
    "Y"
   ]
  },
  {
   "cell_type": "code",
   "execution_count": 7,
   "metadata": {},
   "outputs": [
    {
     "name": "stdout",
     "output_type": "stream",
     "text": [
      "59.539199999999994\n",
      "48.18325\n"
     ]
    }
   ],
   "source": [
    "#mean of X and Y\n",
    "mean_x=np.mean(X)\n",
    "mean_y=np.mean(Y)\n",
    "print(mean_x)\n",
    "print(mean_y)"
   ]
  },
  {
   "cell_type": "code",
   "execution_count": 8,
   "metadata": {},
   "outputs": [
    {
     "data": {
      "text/plain": [
       "2000"
      ]
     },
     "execution_count": 8,
     "metadata": {},
     "output_type": "execute_result"
    }
   ],
   "source": [
    "n=len(X)\n",
    "n"
   ]
  },
  {
   "cell_type": "code",
   "execution_count": 9,
   "metadata": {},
   "outputs": [],
   "source": [
    "numer=0\n",
    "denom=0\n",
    "for i in range(n):\n",
    "    numer+=(X[i]-mean_x)*(Y[i]-mean_y)\n",
    "    denom+=(X[i]-mean_x)**2\n",
    "b1=numer/denom\n",
    "b0=mean_y-(b1*mean_x)"
   ]
  },
  {
   "cell_type": "code",
   "execution_count": 10,
   "metadata": {},
   "outputs": [
    {
     "data": {
      "image/png": "[encoded data removed]",
      "text/plain": [
       "<Figure size 432x288 with 1 Axes>"
      ]
     },
     "metadata": {
      "needs_background": "light"
     },
     "output_type": "display_data"
    }
   ],
   "source": [
    "max_x=np.max(X)\n",
    "min_x=np.min(X)\n",
    "\n",
    "#calculating line values of x and y\n",
    "x=np.linspace(min_x-10,max_x+10,1000)\n",
    "y=b0+b1*x\n",
    "\n",
    "#plotting curve\n",
    "plt.plot(x,y,color='black',label='Regression Line')\n",
    "#plotting scatter point\n",
    "plt.scatter(X,Y,color='orange',label='Scatter Plot')\n",
    "plt.xlabel('Age-Adjusted Death Rate')\n",
    "plt.ylabel('Lower 95% Confidence Interval for Death Rate')\n",
    "plt.legend()\n",
    "plt.show()"
   ]
  },
  {
   "cell_type": "code",
   "execution_count": 11,
   "metadata": {},
   "outputs": [
    {
     "name": "stdout",
     "output_type": "stream",
     "text": [
      "Root Mean Square Error is:  4.997491499860211\n"
     ]
    }
   ],
   "source": [
    "#calculating root mean square error\n",
    "rmse=0\n",
    "for i in range(n):\n",
    "    y_pred=b0+b1*X[i]\n",
    "    rmse+=(Y[i]-y_pred)**2\n",
    "rmse=np.sqrt(rmse/n)\n",
    "print('Root Mean Square Error is: ', rmse)"
   ]
  },
  {
   "cell_type": "code",
   "execution_count": null,
   "metadata": {},
   "outputs": [],
   "source": []
  }
 ],
 "metadata": {
  "kernelspec": {
   "display_name": "Python 3",
   "language": "python",
   "name": "python3"
  },
  "language_info": {
   "codemirror_mode": {
    "name": "ipython",
    "version": 3
   },
   "file_extension": ".py",
   "mimetype": "text/x-python",
   "name": "python",
   "nbconvert_exporter": "python",
   "pygments_lexer": "ipython3",
   "version": "3.8.3"
  }
 },
 "nbformat": 4,
 "nbformat_minor": 4
}
